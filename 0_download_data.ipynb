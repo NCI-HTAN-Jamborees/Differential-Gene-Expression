{
 "cells": [
  {
   "cell_type": "markdown",
   "id": "fcf40fef-85d0-4e60-8c5d-09924b97c22c",
   "metadata": {},
   "source": [
    "# A Guide to Downloading and Uploading Synapse Data\n",
    "Author: Minji Kim  \n",
    "Created: 12/04/2023  \n",
    "Reference: https://github.com/isb-cgc/Community-Notebooks/blob/master/HTAN/Python%20Notebooks/Analyzing_HTAN_Data_in_SB_Data_Studio.ipynb\n",
    "\n",
    "You can download data (level 3&4) through Synapse\n",
    "\n",
    "## 0. Install packages"
   ]
  },
  {
   "cell_type": "code",
   "execution_count": 1,
   "id": "58232eb5-2e18-49b0-9aa2-ccbb86b96ef8",
   "metadata": {},
   "outputs": [
    {
     "name": "stdout",
     "output_type": "stream",
     "text": [
      "Collecting synapseclient\n",
      "  Downloading synapseclient-3.2.0-py3-none-any.whl.metadata (13 kB)\n",
      "Requirement already satisfied: requests<3.0,>=2.22.0 in /opt/conda/lib/python3.11/site-packages (from synapseclient) (2.31.0)\n",
      "Collecting urllib3<2,>=1.26.18 (from synapseclient)\n",
      "  Downloading urllib3-1.26.18-py2.py3-none-any.whl.metadata (48 kB)\n",
      "\u001b[2K     \u001b[90m━━━━━━━━━━━━━━━━━━━━━━━━━━━━━━━━━━━━━━━━\u001b[0m \u001b[32m48.9/48.9 kB\u001b[0m \u001b[31m5.6 MB/s\u001b[0m eta \u001b[36m0:00:00\u001b[0m\n",
      "\u001b[?25hCollecting keyring<23.5,>=15 (from synapseclient)\n",
      "  Downloading keyring-23.4.1-py3-none-any.whl (33 kB)\n",
      "Collecting deprecated<2.0,>=1.2.4 (from synapseclient)\n",
      "  Downloading Deprecated-1.2.14-py2.py3-none-any.whl.metadata (5.4 kB)\n",
      "Collecting opentelemetry-api~=1.21.0 (from synapseclient)\n",
      "  Downloading opentelemetry_api-1.21.0-py3-none-any.whl.metadata (1.4 kB)\n",
      "Collecting opentelemetry-sdk~=1.21.0 (from synapseclient)\n",
      "  Downloading opentelemetry_sdk-1.21.0-py3-none-any.whl.metadata (1.5 kB)\n",
      "Collecting opentelemetry-exporter-otlp-proto-http~=1.21.0 (from synapseclient)\n",
      "  Downloading opentelemetry_exporter_otlp_proto_http-1.21.0-py3-none-any.whl.metadata (2.4 kB)\n",
      "Collecting keyrings.alt==3.1 (from synapseclient)\n",
      "  Downloading keyrings.alt-3.1-py2.py3-none-any.whl (21 kB)\n",
      "Requirement already satisfied: six in /opt/conda/lib/python3.11/site-packages (from keyrings.alt==3.1->synapseclient) (1.16.0)\n",
      "Collecting wrapt<2,>=1.10 (from deprecated<2.0,>=1.2.4->synapseclient)\n",
      "  Downloading wrapt-1.16.0-cp311-cp311-manylinux_2_5_x86_64.manylinux1_x86_64.manylinux_2_17_x86_64.manylinux2014_x86_64.whl.metadata (6.6 kB)\n",
      "Requirement already satisfied: importlib-metadata>=3.6 in /opt/conda/lib/python3.11/site-packages (from keyring<23.5,>=15->synapseclient) (6.8.0)\n",
      "Collecting SecretStorage>=3.2 (from keyring<23.5,>=15->synapseclient)\n",
      "  Downloading SecretStorage-3.3.3-py3-none-any.whl (15 kB)\n",
      "Collecting jeepney>=0.4.2 (from keyring<23.5,>=15->synapseclient)\n",
      "  Downloading jeepney-0.8.0-py3-none-any.whl (48 kB)\n",
      "\u001b[2K     \u001b[90m━━━━━━━━━━━━━━━━━━━━━━━━━━━━━━━━━━━━━━━━\u001b[0m \u001b[32m48.4/48.4 kB\u001b[0m \u001b[31m7.5 MB/s\u001b[0m eta \u001b[36m0:00:00\u001b[0m\n",
      "\u001b[?25hCollecting backoff<3.0.0,>=1.10.0 (from opentelemetry-exporter-otlp-proto-http~=1.21.0->synapseclient)\n",
      "  Downloading backoff-2.2.1-py3-none-any.whl (15 kB)\n",
      "Collecting googleapis-common-protos~=1.52 (from opentelemetry-exporter-otlp-proto-http~=1.21.0->synapseclient)\n",
      "  Downloading googleapis_common_protos-1.61.0-py2.py3-none-any.whl.metadata (1.5 kB)\n",
      "Collecting opentelemetry-exporter-otlp-proto-common==1.21.0 (from opentelemetry-exporter-otlp-proto-http~=1.21.0->synapseclient)\n",
      "  Downloading opentelemetry_exporter_otlp_proto_common-1.21.0-py3-none-any.whl.metadata (1.8 kB)\n",
      "Collecting opentelemetry-proto==1.21.0 (from opentelemetry-exporter-otlp-proto-http~=1.21.0->synapseclient)\n",
      "  Downloading opentelemetry_proto-1.21.0-py3-none-any.whl.metadata (2.3 kB)\n",
      "Requirement already satisfied: protobuf<5.0,>=3.19 in /opt/conda/lib/python3.11/site-packages (from opentelemetry-proto==1.21.0->opentelemetry-exporter-otlp-proto-http~=1.21.0->synapseclient) (4.24.3)\n",
      "Collecting opentelemetry-semantic-conventions==0.42b0 (from opentelemetry-sdk~=1.21.0->synapseclient)\n",
      "  Downloading opentelemetry_semantic_conventions-0.42b0-py3-none-any.whl.metadata (2.3 kB)\n",
      "Requirement already satisfied: typing-extensions>=3.7.4 in /opt/conda/lib/python3.11/site-packages (from opentelemetry-sdk~=1.21.0->synapseclient) (4.8.0)\n",
      "Requirement already satisfied: charset-normalizer<4,>=2 in /opt/conda/lib/python3.11/site-packages (from requests<3.0,>=2.22.0->synapseclient) (3.3.0)\n",
      "Requirement already satisfied: idna<4,>=2.5 in /opt/conda/lib/python3.11/site-packages (from requests<3.0,>=2.22.0->synapseclient) (3.4)\n",
      "Requirement already satisfied: certifi>=2017.4.17 in /opt/conda/lib/python3.11/site-packages (from requests<3.0,>=2.22.0->synapseclient) (2023.7.22)\n",
      "Requirement already satisfied: zipp>=0.5 in /opt/conda/lib/python3.11/site-packages (from importlib-metadata>=3.6->keyring<23.5,>=15->synapseclient) (3.17.0)\n",
      "Requirement already satisfied: cryptography>=2.0 in /opt/conda/lib/python3.11/site-packages (from SecretStorage>=3.2->keyring<23.5,>=15->synapseclient) (41.0.4)\n",
      "Requirement already satisfied: cffi>=1.12 in /opt/conda/lib/python3.11/site-packages (from cryptography>=2.0->SecretStorage>=3.2->keyring<23.5,>=15->synapseclient) (1.16.0)\n",
      "Requirement already satisfied: pycparser in /opt/conda/lib/python3.11/site-packages (from cffi>=1.12->cryptography>=2.0->SecretStorage>=3.2->keyring<23.5,>=15->synapseclient) (2.21)\n",
      "Downloading synapseclient-3.2.0-py3-none-any.whl (225 kB)\n",
      "\u001b[2K   \u001b[90m━━━━━━━━━━━━━━━━━━━━━━━━━━━━━━━━━━━━━━━━\u001b[0m \u001b[32m225.8/225.8 kB\u001b[0m \u001b[31m28.3 MB/s\u001b[0m eta \u001b[36m0:00:00\u001b[0m\n",
      "\u001b[?25hDownloading Deprecated-1.2.14-py2.py3-none-any.whl (9.6 kB)\n",
      "Downloading opentelemetry_api-1.21.0-py3-none-any.whl (57 kB)\n",
      "\u001b[2K   \u001b[90m━━━━━━━━━━━━━━━━━━━━━━━━━━━━━━━━━━━━━━━━\u001b[0m \u001b[32m57.9/57.9 kB\u001b[0m \u001b[31m9.4 MB/s\u001b[0m eta \u001b[36m0:00:00\u001b[0m\n",
      "\u001b[?25hDownloading opentelemetry_exporter_otlp_proto_http-1.21.0-py3-none-any.whl (16 kB)\n",
      "Downloading opentelemetry_exporter_otlp_proto_common-1.21.0-py3-none-any.whl (17 kB)\n",
      "Downloading opentelemetry_proto-1.21.0-py3-none-any.whl (50 kB)\n",
      "\u001b[2K   \u001b[90m━━━━━━━━━━━━━━━━━━━━━━━━━━━━━━━━━━━━━━━━\u001b[0m \u001b[32m50.8/50.8 kB\u001b[0m \u001b[31m7.7 MB/s\u001b[0m eta \u001b[36m0:00:00\u001b[0m\n",
      "\u001b[?25hDownloading opentelemetry_sdk-1.21.0-py3-none-any.whl (105 kB)\n",
      "\u001b[2K   \u001b[90m━━━━━━━━━━━━━━━━━━━━━━━━━━━━━━━━━━━━━━━━\u001b[0m \u001b[32m105.3/105.3 kB\u001b[0m \u001b[31m17.4 MB/s\u001b[0m eta \u001b[36m0:00:00\u001b[0m\n",
      "\u001b[?25hDownloading opentelemetry_semantic_conventions-0.42b0-py3-none-any.whl (36 kB)\n",
      "Downloading urllib3-1.26.18-py2.py3-none-any.whl (143 kB)\n",
      "\u001b[2K   \u001b[90m━━━━━━━━━━━━━━━━━━━━━━━━━━━━━━━━━━━━━━━━\u001b[0m \u001b[32m143.8/143.8 kB\u001b[0m \u001b[31m23.4 MB/s\u001b[0m eta \u001b[36m0:00:00\u001b[0m\n",
      "\u001b[?25hDownloading googleapis_common_protos-1.61.0-py2.py3-none-any.whl (230 kB)\n",
      "\u001b[2K   \u001b[90m━━━━━━━━━━━━━━━━━━━━━━━━━━━━━━━━━━━━━━━━\u001b[0m \u001b[32m230.9/230.9 kB\u001b[0m \u001b[31m32.2 MB/s\u001b[0m eta \u001b[36m0:00:00\u001b[0m\n",
      "\u001b[?25hDownloading wrapt-1.16.0-cp311-cp311-manylinux_2_5_x86_64.manylinux1_x86_64.manylinux_2_17_x86_64.manylinux2014_x86_64.whl (80 kB)\n",
      "\u001b[2K   \u001b[90m━━━━━━━━━━━━━━━━━━━━━━━━━━━━━━━━━━━━━━━━\u001b[0m \u001b[32m80.7/80.7 kB\u001b[0m \u001b[31m13.3 MB/s\u001b[0m eta \u001b[36m0:00:00\u001b[0m\n",
      "\u001b[?25hInstalling collected packages: wrapt, urllib3, opentelemetry-semantic-conventions, opentelemetry-proto, keyrings.alt, jeepney, googleapis-common-protos, backoff, opentelemetry-exporter-otlp-proto-common, deprecated, SecretStorage, opentelemetry-api, opentelemetry-sdk, keyring, opentelemetry-exporter-otlp-proto-http, synapseclient\n",
      "  Attempting uninstall: urllib3\n",
      "    Found existing installation: urllib3 2.0.6\n",
      "    Uninstalling urllib3-2.0.6:\n",
      "      Successfully uninstalled urllib3-2.0.6\n",
      "Successfully installed SecretStorage-3.3.3 backoff-2.2.1 deprecated-1.2.14 googleapis-common-protos-1.61.0 jeepney-0.8.0 keyring-23.4.1 keyrings.alt-3.1 opentelemetry-api-1.21.0 opentelemetry-exporter-otlp-proto-common-1.21.0 opentelemetry-exporter-otlp-proto-http-1.21.0 opentelemetry-proto-1.21.0 opentelemetry-sdk-1.21.0 opentelemetry-semantic-conventions-0.42b0 synapseclient-3.2.0 urllib3-1.26.18 wrapt-1.16.0\n",
      "Note: you may need to restart the kernel to use updated packages.\n"
     ]
    }
   ],
   "source": [
    "%pip install synapseclient"
   ]
  },
  {
   "cell_type": "markdown",
   "id": "90122b21-9b9c-4a08-8682-99968735bda4",
   "metadata": {},
   "source": [
    "## 1. Synapse client login & download data\n",
    "Please see reference how to login Synapse. In this file, I'm going to use python API.  \n",
    "In Synapse website, you can create your own authorized token for login.  \n",
    "Reference:   \n",
    "- https://help.synapse.org/docs/Installing-Synapse-API-Clients.1985249668.html  \n",
    "- Python: https://python-docs.synapse.org/build/html/getting_started/credentials.html\n",
    "- R: https://r-docs.synapse.org/articles/manageSynapseCredentials.html"
   ]
  },
  {
   "cell_type": "code",
   "execution_count": 2,
   "id": "614d0089-54d1-458e-b864-741e6d5f3e2a",
   "metadata": {},
   "outputs": [
    {
     "name": "stdout",
     "output_type": "stream",
     "text": [
      "Welcome, minjikim!\n",
      "\n"
     ]
    }
   ],
   "source": [
    "import sevenbridges as sbg\n",
    "import os\n",
    "import pandas as pd\n",
    "from pathlib import Path\n",
    "import synapseclient\n",
    "\n",
    "# instantiate synapse client\n",
    "syn = synapseclient.login(authToken=\"AUTHTOKEN\")"
   ]
  },
  {
   "cell_type": "markdown",
   "id": "9e2259c6-2251-40c3-a699-b88f8bfc2554",
   "metadata": {},
   "source": [
    "If you do not set downloadLocation, file will be downloaded under cache folder"
   ]
  },
  {
   "cell_type": "code",
   "execution_count": 6,
   "id": "087df984-f279-4e90-b564-4bebf0cfaddd",
   "metadata": {},
   "outputs": [
    {
     "data": {
      "text/plain": [
       "File(ExpressionUnits=['TPM'], createdBy='3413795', GenomicReferenceURL=[''], versionLabel='1', HTANDataFileID=['HTA9_15_9701'], _file_handle={'id': '124882571', 'etag': 'a29ba9f4-49f3-4961-975d-d2f6af692b54', 'createdBy': '3413795', 'createdOn': '2023-05-23T20:41:39.000Z', 'modifiedOn': '2023-05-23T20:41:39.000Z', 'concreteType': 'org.sagebionetworks.repo.model.file.S3FileHandle', 'contentType': 'text/plain', 'contentMd5': '544c2bbd59de044a21baee7d701b74f5', 'fileName': '0000382870-counts.txt', 'storageLocationId': 41108, 'contentSize': 27871146, 'status': 'AVAILABLE', 'bucketName': 'htan-dcc-ohsu', 'key': 'bulk_rnaseq_level_3/0000382870-counts.txt', 'previewId': '124882573', 'isPreview': False, 'externalURL': None}, HTANParentDataFileID=['HTA9_15_9711'], dataFileHandleId='124882571', synapseStore=True, modifiedOn='2023-06-19T17:15:52.873Z', SpecifyOtherFusionGene=[''], isLatestVersion=True, SoftwareandVersion=[''], name='0000382870-counts.txt', MatrixType=['Raw Counts'], EntityId=['syn51534588'], versionNumber=1, PseudoAlignmentUsed=['No'], modifiedBy='3341471', FileFormat=['tsv'], parentId='syn26535390', FusionGeneDetected=[''], path='/sbgenomics/workspace/data/HTAN_OHSU/0000382870-counts.txt', createdOn='2023-05-23T20:41:38.567Z', WorkflowLink=[''], Uuid=['c31d6adb-f512-4ae1-9f47-8278e336e6ce'], id='syn51534588', Component=['BulkRNA-seqLevel3'], cacheDir='/sbgenomics/workspace/data/HTAN_OHSU', etag='b5889ea2-4f9d-4842-9c15-f3fe1c1433b5', FusionGeneIdentity=[''], files=['0000382870-counts.txt'], GenomicReference=[''], concreteType='org.sagebionetworks.repo.model.FileEntity', DataCategory=['Isoform Expression Quantification'])"
      ]
     },
     "execution_count": 6,
     "metadata": {},
     "output_type": "execute_result"
    }
   ],
   "source": [
    "# HTAN OHSU\n",
    "downloadLocation = \"data/HTAN_OHSU\"\n",
    "\n",
    "syn.get(\"syn26535393\", downloadLocation=downloadLocation)\n",
    "syn.get(\"syn26535398\", downloadLocation=downloadLocation)\n",
    "syn.get(\"syn26535394\", downloadLocation=downloadLocation)\n",
    "syn.get(\"syn26535396\", downloadLocation=downloadLocation)\n",
    "syn.get(\"syn26535392\", downloadLocation=downloadLocation)\n",
    "syn.get(\"syn26535395\", downloadLocation=downloadLocation)\n",
    "syn.get(\"syn26535397\", downloadLocation=downloadLocation)\n",
    "syn.get(\"syn51534575\", downloadLocation=downloadLocation)\n",
    "syn.get(\"syn51534563\", downloadLocation=downloadLocation)\n",
    "syn.get(\"syn51534572\", downloadLocation=downloadLocation)\n",
    "syn.get(\"syn51534564\", downloadLocation=downloadLocation)\n",
    "syn.get(\"syn51534565\", downloadLocation=downloadLocation)\n",
    "syn.get(\"syn51534569\", downloadLocation=downloadLocation)\n",
    "syn.get(\"syn51534581\", downloadLocation=downloadLocation)\n",
    "syn.get(\"syn51534571\", downloadLocation=downloadLocation)\n",
    "syn.get(\"syn51534573\", downloadLocation=downloadLocation)\n",
    "syn.get(\"syn51534585\", downloadLocation=downloadLocation)\n",
    "syn.get(\"syn51534574\", downloadLocation=downloadLocation)\n",
    "syn.get(\"syn51534582\", downloadLocation=downloadLocation)\n",
    "syn.get(\"syn51534577\", downloadLocation=downloadLocation)\n",
    "syn.get(\"syn51534583\", downloadLocation=downloadLocation)\n",
    "syn.get(\"syn51534579\", downloadLocation=downloadLocation)\n",
    "syn.get(\"syn51534587\", downloadLocation=downloadLocation)\n",
    "syn.get(\"syn51534586\", downloadLocation=downloadLocation)\n",
    "syn.get(\"syn51534584\", downloadLocation=downloadLocation)\n",
    "syn.get(\"syn51534588\", downloadLocation=downloadLocation)"
   ]
  },
  {
   "cell_type": "code",
   "execution_count": 24,
   "id": "35a681d6-2982-4a31-a5c1-9f1eba44847d",
   "metadata": {},
   "outputs": [
    {
     "data": {
      "text/plain": [
       "File(_file_handle={'id': '127429920', 'etag': 'f6a576c2-aa8c-4e16-aa59-8a237f9e14ff', 'createdBy': '3413795', 'createdOn': '2023-07-28T20:23:13.000Z', 'modifiedOn': '2023-07-28T20:23:13.000Z', 'concreteType': 'org.sagebionetworks.repo.model.file.GoogleCloudFileHandle', 'contentType': 'application/octet-stream', 'contentMd5': 'ef4a19861caf44b7682ed72c01755c95', 'fileName': 'HT545B1-S1H1-matrix.mtx.gz', 'storageLocationId': 41164, 'contentSize': 169277012, 'status': 'AVAILABLE', 'bucketName': 'htan-dcc-washu', 'key': 'snMultiome_level_3_atac_tumor/HT545B1-S1H1-matrix.mtx.gz', 'isPreview': False, 'externalURL': None}, etag='c99c5ff0-7508-4ffd-bd10-57aed46c6780', createdOn='2023-07-28T20:23:12.983Z', id='syn52176100', files=['HT545B1-S1H1-matrix.mtx.gz'], synapseStore=True, versionNumber=1, createdBy='3413795', modifiedOn='2023-08-15T14:54:35.466Z', isLatestVersion=True, cacheDir='/sbgenomics/workspace/data/HTAN_WUSTL', name='HT545B1-S1H1-matrix.mtx.gz', parentId='syn52175872', modifiedBy='3408101', versionLabel='1', path='/sbgenomics/workspace/data/HTAN_WUSTL/HT545B1-S1H1-matrix.mtx.gz', concreteType='org.sagebionetworks.repo.model.FileEntity', dataFileHandleId='127429920')"
      ]
     },
     "execution_count": 24,
     "metadata": {},
     "output_type": "execute_result"
    }
   ],
   "source": [
    "# HTAN OHSU\n",
    "downloadLocation = \"data/HTAN_WUSTL\"\n",
    "\n",
    "syn.get(\"syn52175804\", downloadLocation=downloadLocation)\n",
    "syn.get(\"syn52175769\", downloadLocation=downloadLocation)\n",
    "syn.get(\"syn52175843\", downloadLocation=downloadLocation)\n",
    "syn.get(\"syn52175795\", downloadLocation=downloadLocation)\n",
    "syn.get(\"syn52175752\", downloadLocation=downloadLocation)\n",
    "syn.get(\"syn52175835\", downloadLocation=downloadLocation)\n",
    "syn.get(\"syn52175792\", downloadLocation=downloadLocation)\n",
    "syn.get(\"syn52175742\", downloadLocation=downloadLocation)\n",
    "syn.get(\"syn52175837\", downloadLocation=downloadLocation)\n",
    "syn.get(\"syn52175770\", downloadLocation=downloadLocation)\n",
    "syn.get(\"syn52175750\", downloadLocation=downloadLocation)\n",
    "syn.get(\"syn52175817\", downloadLocation=downloadLocation)\n",
    "syn.get(\"syn52175780\", downloadLocation=downloadLocation)\n",
    "syn.get(\"syn52175743\", downloadLocation=downloadLocation)\n",
    "syn.get(\"syn52175841\", downloadLocation=downloadLocation)\n",
    "syn.get(\"syn52175751\", downloadLocation=downloadLocation)\n",
    "syn.get(\"syn52175753\", downloadLocation=downloadLocation)\n",
    "syn.get(\"syn52175828\", downloadLocation=downloadLocation)\n",
    "syn.get(\"syn52175787\", downloadLocation=downloadLocation)\n",
    "syn.get(\"syn52175767\", downloadLocation=downloadLocation)\n",
    "syn.get(\"syn52175842\", downloadLocation=downloadLocation)\n",
    "syn.get(\"syn52175808\", downloadLocation=downloadLocation)\n",
    "syn.get(\"syn52175749\", downloadLocation=downloadLocation)\n",
    "syn.get(\"syn52175832\", downloadLocation=downloadLocation)\n",
    "syn.get(\"syn52175797\", downloadLocation=downloadLocation)\n",
    "syn.get(\"syn52175762\", downloadLocation=downloadLocation)\n",
    "syn.get(\"syn52175812\", downloadLocation=downloadLocation)\n",
    "syn.get(\"syn52175802\", downloadLocation=downloadLocation)\n",
    "syn.get(\"syn52175756\", downloadLocation=downloadLocation)\n",
    "syn.get(\"syn52175818\", downloadLocation=downloadLocation)\n",
    "syn.get(\"syn52176322\", downloadLocation=downloadLocation)\n",
    "syn.get(\"syn52176857\", downloadLocation=downloadLocation)\n",
    "syn.get(\"syn52176610\", downloadLocation=downloadLocation)\n",
    "syn.get(\"syn52176249\", downloadLocation=downloadLocation)\n",
    "syn.get(\"syn52176287\", downloadLocation=downloadLocation)\n",
    "syn.get(\"syn52176637\", downloadLocation=downloadLocation)\n",
    "syn.get(\"syn52176498\", downloadLocation=downloadLocation)\n",
    "syn.get(\"syn52176243\", downloadLocation=downloadLocation)\n",
    "syn.get(\"syn52176299\", downloadLocation=downloadLocation)\n",
    "syn.get(\"syn52176727\", downloadLocation=downloadLocation)\n",
    "syn.get(\"syn52176544\", downloadLocation=downloadLocation)\n",
    "syn.get(\"syn52176252\", downloadLocation=downloadLocation)\n",
    "syn.get(\"syn52176304\", downloadLocation=downloadLocation)\n",
    "syn.get(\"syn52176828\", downloadLocation=downloadLocation)\n",
    "syn.get(\"syn52176591\", downloadLocation=downloadLocation)\n",
    "syn.get(\"syn52176258\", downloadLocation=downloadLocation)\n",
    "syn.get(\"syn52176291\", downloadLocation=downloadLocation)\n",
    "syn.get(\"syn52176729\", downloadLocation=downloadLocation)\n",
    "syn.get(\"syn52176521\", downloadLocation=downloadLocation)\n",
    "syn.get(\"syn52176246\", downloadLocation=downloadLocation)\n",
    "syn.get(\"syn52176295\", downloadLocation=downloadLocation)\n",
    "syn.get(\"syn52176757\", downloadLocation=downloadLocation)\n",
    "syn.get(\"syn52176524\", downloadLocation=downloadLocation)\n",
    "syn.get(\"syn52176260\", downloadLocation=downloadLocation)\n",
    "syn.get(\"syn52176333\", downloadLocation=downloadLocation)\n",
    "syn.get(\"syn52176859\", downloadLocation=downloadLocation)\n",
    "syn.get(\"syn52176604\", downloadLocation=downloadLocation)\n",
    "syn.get(\"syn52176251\", downloadLocation=downloadLocation)\n",
    "syn.get(\"syn52176294\", downloadLocation=downloadLocation)\n",
    "syn.get(\"syn52176609\", downloadLocation=downloadLocation)\n",
    "syn.get(\"syn52176502\", downloadLocation=downloadLocation)\n",
    "syn.get(\"syn52176259\", downloadLocation=downloadLocation)\n",
    "syn.get(\"syn52176297\", downloadLocation=downloadLocation)\n",
    "syn.get(\"syn52176666\", downloadLocation=downloadLocation)\n",
    "syn.get(\"syn52176547\", downloadLocation=downloadLocation)\n",
    "syn.get(\"syn52176267\", downloadLocation=downloadLocation)\n",
    "syn.get(\"syn52176311\", downloadLocation=downloadLocation)\n",
    "syn.get(\"syn52176730\", downloadLocation=downloadLocation)\n",
    "syn.get(\"syn52176516\", downloadLocation=downloadLocation)\n",
    "syn.get(\"syn52176239\", downloadLocation=downloadLocation)\n",
    "syn.get(\"syn52176321\", downloadLocation=downloadLocation)\n",
    "syn.get(\"syn52176812\", downloadLocation=downloadLocation)\n",
    "syn.get(\"syn52176600\", downloadLocation=downloadLocation)\n",
    "syn.get(\"syn52176266\", downloadLocation=downloadLocation)\n",
    "syn.get(\"syn52176306\", downloadLocation=downloadLocation)\n",
    "syn.get(\"syn52176765\", downloadLocation=downloadLocation)\n",
    "syn.get(\"syn52176582\", downloadLocation=downloadLocation)\n",
    "syn.get(\"syn52176261\", downloadLocation=downloadLocation)\n",
    "syn.get(\"syn52176627\", downloadLocation=downloadLocation)\n",
    "syn.get(\"syn52175906\", downloadLocation=downloadLocation)\n",
    "syn.get(\"syn52175971\", downloadLocation=downloadLocation)\n",
    "syn.get(\"syn52176152\", downloadLocation=downloadLocation)\n",
    "syn.get(\"syn52176835\", downloadLocation=downloadLocation)\n",
    "syn.get(\"syn52175918\", downloadLocation=downloadLocation)\n",
    "syn.get(\"syn52175960\", downloadLocation=downloadLocation)\n",
    "syn.get(\"syn52176281\", downloadLocation=downloadLocation)\n",
    "syn.get(\"syn52176599\", downloadLocation=downloadLocation)\n",
    "syn.get(\"syn52175948\", downloadLocation=downloadLocation)\n",
    "syn.get(\"syn52175949\", downloadLocation=downloadLocation)\n",
    "syn.get(\"syn52176099\", downloadLocation=downloadLocation)\n",
    "syn.get(\"syn52176847\", downloadLocation=downloadLocation)\n",
    "syn.get(\"syn52175947\", downloadLocation=downloadLocation)\n",
    "syn.get(\"syn52175972\", downloadLocation=downloadLocation)\n",
    "syn.get(\"syn52176370\", downloadLocation=downloadLocation)\n",
    "syn.get(\"syn52176830\", downloadLocation=downloadLocation)\n",
    "syn.get(\"syn52175958\", downloadLocation=downloadLocation)\n",
    "syn.get(\"syn52175962\", downloadLocation=downloadLocation)\n",
    "syn.get(\"syn52176354\", downloadLocation=downloadLocation)\n",
    "syn.get(\"syn52176791\", downloadLocation=downloadLocation)\n",
    "syn.get(\"syn52175969\", downloadLocation=downloadLocation)\n",
    "syn.get(\"syn52175982\", downloadLocation=downloadLocation)\n",
    "syn.get(\"syn52176198\", downloadLocation=downloadLocation)\n",
    "syn.get(\"syn52176842\", downloadLocation=downloadLocation)\n",
    "syn.get(\"syn52175970\", downloadLocation=downloadLocation)\n",
    "syn.get(\"syn52175997\", downloadLocation=downloadLocation)\n",
    "syn.get(\"syn52176397\", downloadLocation=downloadLocation)\n",
    "syn.get(\"syn52176539\", downloadLocation=downloadLocation)\n",
    "syn.get(\"syn52175984\", downloadLocation=downloadLocation)\n",
    "syn.get(\"syn52175974\", downloadLocation=downloadLocation)\n",
    "syn.get(\"syn52176062\", downloadLocation=downloadLocation)\n",
    "syn.get(\"syn52176839\", downloadLocation=downloadLocation)\n",
    "syn.get(\"syn52175993\", downloadLocation=downloadLocation)\n",
    "syn.get(\"syn52176003\", downloadLocation=downloadLocation)\n",
    "syn.get(\"syn52176217\", downloadLocation=downloadLocation)\n",
    "syn.get(\"syn52176825\", downloadLocation=downloadLocation)\n",
    "syn.get(\"syn52175992\", downloadLocation=downloadLocation)\n",
    "syn.get(\"syn52175991\", downloadLocation=downloadLocation)\n",
    "syn.get(\"syn52176141\", downloadLocation=downloadLocation)\n",
    "syn.get(\"syn52176769\", downloadLocation=downloadLocation)\n",
    "syn.get(\"syn52176004\", downloadLocation=downloadLocation)\n",
    "syn.get(\"syn52176005\", downloadLocation=downloadLocation)\n",
    "syn.get(\"syn52176145\", downloadLocation=downloadLocation)\n",
    "syn.get(\"syn52176693\", downloadLocation=downloadLocation)\n",
    "syn.get(\"syn52176006\", downloadLocation=downloadLocation)\n",
    "syn.get(\"syn52176012\", downloadLocation=downloadLocation)\n",
    "syn.get(\"syn52176156\", downloadLocation=downloadLocation)\n",
    "syn.get(\"syn52176747\", downloadLocation=downloadLocation)\n",
    "syn.get(\"syn52176007\", downloadLocation=downloadLocation)\n",
    "syn.get(\"syn52176010\", downloadLocation=downloadLocation)\n",
    "syn.get(\"syn52176140\", downloadLocation=downloadLocation)\n",
    "syn.get(\"syn52176633\", downloadLocation=downloadLocation)\n",
    "syn.get(\"syn52176008\", downloadLocation=downloadLocation)\n",
    "syn.get(\"syn52176015\", downloadLocation=downloadLocation)\n",
    "syn.get(\"syn52176100\", downloadLocation=downloadLocation)"
   ]
  },
  {
   "cell_type": "markdown",
   "id": "04a098d2-b8be-47b4-8f69-368b50b4036b",
   "metadata": {},
   "source": [
    "## 2. Set up Sevenbridges client \n",
    "It requires SB developer auth token: https://docs.sevenbridges.com/docs/get-your-authentication-token  \n",
    "Reference for uploading files: https://sevenbridges-python.readthedocs.io/en/latest/quickstart/#file-upload"
   ]
  },
  {
   "cell_type": "code",
   "execution_count": 9,
   "id": "d1e31e2b-51ee-4f97-a738-93da1c79cbe1",
   "metadata": {},
   "outputs": [],
   "source": [
    "# instantiate SB python client\n",
    "auth_token = 'SB DEVELOPER AUTH TOKEN'\n",
    "\n",
    "os.environ['SB_API_ENDPOINT'] = 'https://cgc-api.sbgenomics.com/v2' \n",
    "os.environ['SB_AUTH_TOKEN'] = auth_token\n",
    "api = sbg.Api()\n",
    "\n",
    "# Get the project or parent folder to where we want to upload files.\n",
    "project = api.projects.get('rowan_beck_era/project-2-differential-gene-expression')"
   ]
  },
  {
   "cell_type": "code",
   "execution_count": 20,
   "id": "81e88b73-fef6-48cb-9f2e-14d3874f5338",
   "metadata": {},
   "outputs": [],
   "source": [
    "# https://sevenbridges-python.readthedocs.io/en/latest/quickstart/#file-upload\n",
    "for file in Path(\"data/HTAN_OHSU\").glob(\"*\"):\n",
    "    api.files.upload(file, project=project)\n",
    "\n",
    "for file in Path(\"data/HTAN_WUSTL\").glob(\"*\"):\n",
    "    api.files.upload(file, project=project)"
   ]
  },
  {
   "cell_type": "markdown",
   "id": "9c8bf171-ffc6-4c9b-8bf8-6ee3c591b974",
   "metadata": {},
   "source": [
    "### Faced an error regarding to folder_identifier"
   ]
  },
  {
   "cell_type": "code",
   "execution_count": 29,
   "id": "e5fa87a4-9714-4518-addd-8bdc540d160c",
   "metadata": {},
   "outputs": [
    {
     "ename": "NotFound",
     "evalue": "HTTP 404 Not Found",
     "output_type": "error",
     "traceback": [
      "\u001b[0;31m---------------------------------------------------------------------------\u001b[0m",
      "\u001b[0;31mNotFound\u001b[0m                                  Traceback (most recent call last)",
      "Cell \u001b[0;32mIn[29], line 2\u001b[0m\n\u001b[1;32m      1\u001b[0m \u001b[38;5;66;03m# there is an error to access folde\u001b[39;00m\n\u001b[0;32m----> 2\u001b[0m parent_folder \u001b[38;5;241m=\u001b[39m \u001b[43mapi\u001b[49m\u001b[38;5;241;43m.\u001b[39;49m\u001b[43mprojects\u001b[49m\u001b[38;5;241;43m.\u001b[39;49m\u001b[43mget\u001b[49m\u001b[43m(\u001b[49m\u001b[38;5;124;43m'\u001b[39;49m\u001b[38;5;124;43mrowan_beck_era/project-2-differential-gene-expression/HTAN_OHSU\u001b[39;49m\u001b[38;5;124;43m'\u001b[39;49m\u001b[43m)\u001b[49m\n",
      "File \u001b[0;32m/opt/conda/lib/python3.11/site-packages/sevenbridges/meta/resource.py:195\u001b[0m, in \u001b[0;36mResource.get\u001b[0;34m(cls, id, api)\u001b[0m\n\u001b[1;32m    193\u001b[0m     extra \u001b[38;5;241m=\u001b[39m {\u001b[38;5;124m'\u001b[39m\u001b[38;5;124mresource\u001b[39m\u001b[38;5;124m'\u001b[39m: \u001b[38;5;28mcls\u001b[39m\u001b[38;5;241m.\u001b[39m\u001b[38;5;18m__name__\u001b[39m, \u001b[38;5;124m'\u001b[39m\u001b[38;5;124mquery\u001b[39m\u001b[38;5;124m'\u001b[39m: {\u001b[38;5;124m'\u001b[39m\u001b[38;5;124mid\u001b[39m\u001b[38;5;124m'\u001b[39m: \u001b[38;5;28mid\u001b[39m}}\n\u001b[1;32m    194\u001b[0m     logger\u001b[38;5;241m.\u001b[39minfo(\u001b[38;5;124m'\u001b[39m\u001b[38;5;124mFetching \u001b[39m\u001b[38;5;132;01m%s\u001b[39;00m\u001b[38;5;124m resource\u001b[39m\u001b[38;5;124m'\u001b[39m, \u001b[38;5;28mcls\u001b[39m, extra\u001b[38;5;241m=\u001b[39mextra)\n\u001b[0;32m--> 195\u001b[0m     resource \u001b[38;5;241m=\u001b[39m \u001b[43mapi\u001b[49m\u001b[38;5;241;43m.\u001b[39;49m\u001b[43mget\u001b[49m\u001b[43m(\u001b[49m\u001b[43murl\u001b[49m\u001b[38;5;241;43m=\u001b[39;49m\u001b[38;5;28;43mcls\u001b[39;49m\u001b[38;5;241;43m.\u001b[39;49m\u001b[43m_URL\u001b[49m\u001b[43m[\u001b[49m\u001b[38;5;124;43m'\u001b[39;49m\u001b[38;5;124;43mget\u001b[39;49m\u001b[38;5;124;43m'\u001b[39;49m\u001b[43m]\u001b[49m\u001b[38;5;241;43m.\u001b[39;49m\u001b[43mformat\u001b[49m\u001b[43m(\u001b[49m\u001b[38;5;28;43mid\u001b[39;49m\u001b[38;5;241;43m=\u001b[39;49m\u001b[38;5;28;43mid\u001b[39;49m\u001b[43m)\u001b[49m\u001b[43m)\u001b[49m\u001b[38;5;241m.\u001b[39mjson()\n\u001b[1;32m    196\u001b[0m     \u001b[38;5;28;01mreturn\u001b[39;00m \u001b[38;5;28mcls\u001b[39m(api\u001b[38;5;241m=\u001b[39mapi, \u001b[38;5;241m*\u001b[39m\u001b[38;5;241m*\u001b[39mresource)\n\u001b[1;32m    197\u001b[0m \u001b[38;5;28;01melse\u001b[39;00m:\n",
      "File \u001b[0;32m/opt/conda/lib/python3.11/site-packages/sevenbridges/http/client.py:321\u001b[0m, in \u001b[0;36mHttpClient.get\u001b[0;34m(self, url, headers, params, data, append_base, stream)\u001b[0m\n\u001b[1;32m    318\u001b[0m \u001b[38;5;28;01mdef\u001b[39;00m \u001b[38;5;21mget\u001b[39m(\u001b[38;5;28mself\u001b[39m, url, headers\u001b[38;5;241m=\u001b[39m\u001b[38;5;28;01mNone\u001b[39;00m, params\u001b[38;5;241m=\u001b[39m\u001b[38;5;28;01mNone\u001b[39;00m, data\u001b[38;5;241m=\u001b[39m\u001b[38;5;28;01mNone\u001b[39;00m, append_base\u001b[38;5;241m=\u001b[39m\u001b[38;5;28;01mTrue\u001b[39;00m,\n\u001b[1;32m    319\u001b[0m         stream\u001b[38;5;241m=\u001b[39m\u001b[38;5;28;01mFalse\u001b[39;00m):\n\u001b[0;32m--> 321\u001b[0m     \u001b[38;5;28;01mreturn\u001b[39;00m \u001b[38;5;28;43mself\u001b[39;49m\u001b[38;5;241;43m.\u001b[39;49m\u001b[43m_request\u001b[49m\u001b[43m(\u001b[49m\n\u001b[1;32m    322\u001b[0m \u001b[43m        \u001b[49m\u001b[38;5;124;43m'\u001b[39;49m\u001b[38;5;124;43mGET\u001b[39;49m\u001b[38;5;124;43m'\u001b[39;49m\u001b[43m,\u001b[49m\u001b[43m \u001b[49m\u001b[43murl\u001b[49m\u001b[38;5;241;43m=\u001b[39;49m\u001b[43murl\u001b[49m\u001b[43m,\u001b[49m\u001b[43m \u001b[49m\u001b[43mheaders\u001b[49m\u001b[38;5;241;43m=\u001b[39;49m\u001b[43mheaders\u001b[49m\u001b[43m,\u001b[49m\u001b[43m \u001b[49m\u001b[43mparams\u001b[49m\u001b[38;5;241;43m=\u001b[39;49m\u001b[43mparams\u001b[49m\u001b[43m,\u001b[49m\u001b[43m \u001b[49m\u001b[43mdata\u001b[49m\u001b[38;5;241;43m=\u001b[39;49m\u001b[43mdata\u001b[49m\u001b[43m,\u001b[49m\n\u001b[1;32m    323\u001b[0m \u001b[43m        \u001b[49m\u001b[43mappend_base\u001b[49m\u001b[38;5;241;43m=\u001b[39;49m\u001b[43mappend_base\u001b[49m\u001b[43m,\u001b[49m\u001b[43m \u001b[49m\u001b[43mstream\u001b[49m\u001b[38;5;241;43m=\u001b[39;49m\u001b[43mstream\u001b[49m\n\u001b[1;32m    324\u001b[0m \u001b[43m    \u001b[49m\u001b[43m)\u001b[49m\n",
      "File \u001b[0;32m/opt/conda/lib/python3.11/site-packages/sevenbridges/decorators.py:50\u001b[0m, in \u001b[0;36mthrottle.<locals>.wrapper\u001b[0;34m(http_client, *args, **kwargs)\u001b[0m\n\u001b[1;32m     48\u001b[0m \u001b[38;5;28;01mif\u001b[39;00m http_client\u001b[38;5;241m.\u001b[39m_throttle_limit:\n\u001b[1;32m     49\u001b[0m     \u001b[38;5;28;01mwith\u001b[39;00m http_client\u001b[38;5;241m.\u001b[39m_throttle_limit:\n\u001b[0;32m---> 50\u001b[0m         \u001b[38;5;28;01mreturn\u001b[39;00m \u001b[43mfunc\u001b[49m\u001b[43m(\u001b[49m\u001b[43mhttp_client\u001b[49m\u001b[43m,\u001b[49m\u001b[43m \u001b[49m\u001b[38;5;241;43m*\u001b[39;49m\u001b[43margs\u001b[49m\u001b[43m,\u001b[49m\u001b[43m \u001b[49m\u001b[38;5;241;43m*\u001b[39;49m\u001b[38;5;241;43m*\u001b[39;49m\u001b[43mkwargs\u001b[49m\u001b[43m)\u001b[49m\n\u001b[1;32m     51\u001b[0m \u001b[38;5;28;01melse\u001b[39;00m:\n\u001b[1;32m     52\u001b[0m     \u001b[38;5;28;01mreturn\u001b[39;00m func(http_client, \u001b[38;5;241m*\u001b[39margs, \u001b[38;5;241m*\u001b[39m\u001b[38;5;241m*\u001b[39mkwargs)\n",
      "File \u001b[0;32m/opt/conda/lib/python3.11/site-packages/sevenbridges/decorators.py:95\u001b[0m, in \u001b[0;36mcheck_for_error.<locals>.wrapper\u001b[0;34m(*args, **kwargs)\u001b[0m\n\u001b[1;32m     93\u001b[0m     \u001b[38;5;28;01mif\u001b[39;00m \u001b[38;5;124m'\u001b[39m\u001b[38;5;124mmore_info\u001b[39m\u001b[38;5;124m'\u001b[39m \u001b[38;5;129;01min\u001b[39;00m data:\n\u001b[1;32m     94\u001b[0m         e\u001b[38;5;241m.\u001b[39mmore_info \u001b[38;5;241m=\u001b[39m data[\u001b[38;5;124m'\u001b[39m\u001b[38;5;124mmore_info\u001b[39m\u001b[38;5;124m'\u001b[39m]\n\u001b[0;32m---> 95\u001b[0m     \u001b[38;5;28;01mraise\u001b[39;00m e\n\u001b[1;32m     96\u001b[0m \u001b[38;5;28;01mexcept\u001b[39;00m JSONDecodeError:\n\u001b[1;32m     97\u001b[0m     \u001b[38;5;28;01mraise\u001b[39;00m NonJSONResponseError(\n\u001b[1;32m     98\u001b[0m         status\u001b[38;5;241m=\u001b[39mresponse\u001b[38;5;241m.\u001b[39mstatus_code,\n\u001b[1;32m     99\u001b[0m         message\u001b[38;5;241m=\u001b[39m\u001b[38;5;28mstr\u001b[39m(response\u001b[38;5;241m.\u001b[39mtext)\n\u001b[1;32m    100\u001b[0m     ) \u001b[38;5;28;01mfrom\u001b[39;00m \u001b[38;5;28;01mNone\u001b[39;00m\n",
      "\u001b[0;31mNotFound\u001b[0m: HTTP 404 Not Found"
     ]
    }
   ],
   "source": [
    "'''\n",
    "I would like to upload filese into project folder.\n",
    "However, there is an error to access folder, cannot get information regarding to folder_identifier\n",
    "'''\n",
    "parent_folder = api.projects.get('rowan_beck_era/project-2-differential-gene-expression/HTAN_OHSU')"
   ]
  }
 ],
 "metadata": {
  "kernelspec": {
   "display_name": "Python 3 (ipykernel)",
   "language": "python",
   "name": "python3"
  },
  "language_info": {
   "codemirror_mode": {
    "name": "ipython",
    "version": 3
   },
   "file_extension": ".py",
   "mimetype": "text/x-python",
   "name": "python",
   "nbconvert_exporter": "python",
   "pygments_lexer": "ipython3",
   "version": "3.11.6"
  }
 },
 "nbformat": 4,
 "nbformat_minor": 5
}
