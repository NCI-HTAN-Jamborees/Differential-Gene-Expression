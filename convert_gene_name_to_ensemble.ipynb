{
 "cells": [
  {
   "cell_type": "code",
   "execution_count": 4,
   "id": "f77e3cf7-403a-4ecc-93c7-9cd6f7b58cea",
   "metadata": {},
   "outputs": [],
   "source": [
    "# Script converts gene name to ensemble ID for gsea analysis by panther."
   ]
  },
  {
   "cell_type": "code",
   "execution_count": 1,
   "id": "799a9585-1aa7-4819-889c-f8b7ef76f01c",
   "metadata": {},
   "outputs": [
    {
     "name": "stdout",
     "output_type": "stream",
     "text": [
      "Requirement already satisfied: gseapy in /opt/conda/lib/python3.11/site-packages (1.1.0)\n",
      "Requirement already satisfied: numpy>=1.13.0 in /opt/conda/lib/python3.11/site-packages (from gseapy) (1.24.4)\n",
      "Requirement already satisfied: scipy in /opt/conda/lib/python3.11/site-packages (from gseapy) (1.11.3)\n",
      "Requirement already satisfied: pandas in /opt/conda/lib/python3.11/site-packages (from gseapy) (2.1.1)\n",
      "Requirement already satisfied: matplotlib>=2.2 in /opt/conda/lib/python3.11/site-packages (from gseapy) (3.8.0)\n",
      "Requirement already satisfied: requests in /opt/conda/lib/python3.11/site-packages (from gseapy) (2.31.0)\n",
      "Requirement already satisfied: contourpy>=1.0.1 in /opt/conda/lib/python3.11/site-packages (from matplotlib>=2.2->gseapy) (1.1.1)\n",
      "Requirement already satisfied: cycler>=0.10 in /opt/conda/lib/python3.11/site-packages (from matplotlib>=2.2->gseapy) (0.12.1)\n",
      "Requirement already satisfied: fonttools>=4.22.0 in /opt/conda/lib/python3.11/site-packages (from matplotlib>=2.2->gseapy) (4.43.1)\n",
      "Requirement already satisfied: kiwisolver>=1.0.1 in /opt/conda/lib/python3.11/site-packages (from matplotlib>=2.2->gseapy) (1.4.5)\n",
      "Requirement already satisfied: packaging>=20.0 in /opt/conda/lib/python3.11/site-packages (from matplotlib>=2.2->gseapy) (23.2)\n",
      "Requirement already satisfied: pillow>=6.2.0 in /opt/conda/lib/python3.11/site-packages (from matplotlib>=2.2->gseapy) (10.1.0)\n",
      "Requirement already satisfied: pyparsing>=2.3.1 in /opt/conda/lib/python3.11/site-packages (from matplotlib>=2.2->gseapy) (3.1.1)\n",
      "Requirement already satisfied: python-dateutil>=2.7 in /opt/conda/lib/python3.11/site-packages (from matplotlib>=2.2->gseapy) (2.8.2)\n",
      "Requirement already satisfied: pytz>=2020.1 in /opt/conda/lib/python3.11/site-packages (from pandas->gseapy) (2023.3.post1)\n",
      "Requirement already satisfied: tzdata>=2022.1 in /opt/conda/lib/python3.11/site-packages (from pandas->gseapy) (2023.3)\n",
      "Requirement already satisfied: charset-normalizer<4,>=2 in /opt/conda/lib/python3.11/site-packages (from requests->gseapy) (3.3.0)\n",
      "Requirement already satisfied: idna<4,>=2.5 in /opt/conda/lib/python3.11/site-packages (from requests->gseapy) (3.4)\n",
      "Requirement already satisfied: urllib3<3,>=1.21.1 in /opt/conda/lib/python3.11/site-packages (from requests->gseapy) (2.0.6)\n",
      "Requirement already satisfied: certifi>=2017.4.17 in /opt/conda/lib/python3.11/site-packages (from requests->gseapy) (2023.7.22)\n",
      "Requirement already satisfied: six>=1.5 in /opt/conda/lib/python3.11/site-packages (from python-dateutil>=2.7->matplotlib>=2.2->gseapy) (1.16.0)\n",
      "Requirement already satisfied: scanpy in /opt/conda/lib/python3.11/site-packages (1.9.6)\n",
      "Requirement already satisfied: anndata>=0.7.4 in /opt/conda/lib/python3.11/site-packages (from scanpy) (0.10.3)\n",
      "Requirement already satisfied: h5py>=3 in /opt/conda/lib/python3.11/site-packages (from scanpy) (3.10.0)\n",
      "Requirement already satisfied: joblib in /opt/conda/lib/python3.11/site-packages (from scanpy) (1.3.2)\n",
      "Requirement already satisfied: matplotlib>=3.4 in /opt/conda/lib/python3.11/site-packages (from scanpy) (3.8.0)\n",
      "Requirement already satisfied: natsort in /opt/conda/lib/python3.11/site-packages (from scanpy) (8.4.0)\n",
      "Requirement already satisfied: networkx>=2.3 in /opt/conda/lib/python3.11/site-packages (from scanpy) (3.1)\n",
      "Requirement already satisfied: numba>=0.41.0 in /opt/conda/lib/python3.11/site-packages (from scanpy) (0.57.1)\n",
      "Requirement already satisfied: numpy>=1.17.0 in /opt/conda/lib/python3.11/site-packages (from scanpy) (1.24.4)\n",
      "Requirement already satisfied: packaging in /opt/conda/lib/python3.11/site-packages (from scanpy) (23.2)\n",
      "Requirement already satisfied: pandas!=2.1.2,>=1.1.1 in /opt/conda/lib/python3.11/site-packages (from scanpy) (2.1.1)\n",
      "Requirement already satisfied: patsy in /opt/conda/lib/python3.11/site-packages (from scanpy) (0.5.3)\n",
      "Requirement already satisfied: scikit-learn>=0.24 in /opt/conda/lib/python3.11/site-packages (from scanpy) (1.3.1)\n",
      "Requirement already satisfied: scipy>=1.4 in /opt/conda/lib/python3.11/site-packages (from scanpy) (1.11.3)\n",
      "Requirement already satisfied: seaborn!=0.13.0 in /opt/conda/lib/python3.11/site-packages (from scanpy) (0.12.2)\n",
      "Requirement already satisfied: session-info in /opt/conda/lib/python3.11/site-packages (from scanpy) (1.0.0)\n",
      "Requirement already satisfied: statsmodels>=0.10.0rc2 in /opt/conda/lib/python3.11/site-packages (from scanpy) (0.14.0)\n",
      "Requirement already satisfied: tqdm in /opt/conda/lib/python3.11/site-packages (from scanpy) (4.66.1)\n",
      "Requirement already satisfied: umap-learn>=0.3.10 in /opt/conda/lib/python3.11/site-packages (from scanpy) (0.5.5)\n",
      "Requirement already satisfied: array-api-compat in /opt/conda/lib/python3.11/site-packages (from anndata>=0.7.4->scanpy) (1.4)\n",
      "Requirement already satisfied: contourpy>=1.0.1 in /opt/conda/lib/python3.11/site-packages (from matplotlib>=3.4->scanpy) (1.1.1)\n",
      "Requirement already satisfied: cycler>=0.10 in /opt/conda/lib/python3.11/site-packages (from matplotlib>=3.4->scanpy) (0.12.1)\n",
      "Requirement already satisfied: fonttools>=4.22.0 in /opt/conda/lib/python3.11/site-packages (from matplotlib>=3.4->scanpy) (4.43.1)\n",
      "Requirement already satisfied: kiwisolver>=1.0.1 in /opt/conda/lib/python3.11/site-packages (from matplotlib>=3.4->scanpy) (1.4.5)\n",
      "Requirement already satisfied: pillow>=6.2.0 in /opt/conda/lib/python3.11/site-packages (from matplotlib>=3.4->scanpy) (10.1.0)\n",
      "Requirement already satisfied: pyparsing>=2.3.1 in /opt/conda/lib/python3.11/site-packages (from matplotlib>=3.4->scanpy) (3.1.1)\n",
      "Requirement already satisfied: python-dateutil>=2.7 in /opt/conda/lib/python3.11/site-packages (from matplotlib>=3.4->scanpy) (2.8.2)\n",
      "Requirement already satisfied: llvmlite<0.41,>=0.40.0dev0 in /opt/conda/lib/python3.11/site-packages (from numba>=0.41.0->scanpy) (0.40.1)\n",
      "Requirement already satisfied: pytz>=2020.1 in /opt/conda/lib/python3.11/site-packages (from pandas!=2.1.2,>=1.1.1->scanpy) (2023.3.post1)\n",
      "Requirement already satisfied: tzdata>=2022.1 in /opt/conda/lib/python3.11/site-packages (from pandas!=2.1.2,>=1.1.1->scanpy) (2023.3)\n",
      "Requirement already satisfied: threadpoolctl>=2.0.0 in /opt/conda/lib/python3.11/site-packages (from scikit-learn>=0.24->scanpy) (3.2.0)\n",
      "Requirement already satisfied: six in /opt/conda/lib/python3.11/site-packages (from patsy->scanpy) (1.16.0)\n",
      "Requirement already satisfied: pynndescent>=0.5 in /opt/conda/lib/python3.11/site-packages (from umap-learn>=0.3.10->scanpy) (0.5.11)\n",
      "Requirement already satisfied: stdlib-list in /opt/conda/lib/python3.11/site-packages (from session-info->scanpy) (0.10.0)\n",
      "Requirement already satisfied: enrichr in /opt/conda/lib/python3.11/site-packages (0.0.6)\n",
      "Requirement already satisfied: requests>=2.25.1 in /opt/conda/lib/python3.11/site-packages (from enrichr) (2.31.0)\n",
      "Requirement already satisfied: charset-normalizer<4,>=2 in /opt/conda/lib/python3.11/site-packages (from requests>=2.25.1->enrichr) (3.3.0)\n",
      "Requirement already satisfied: idna<4,>=2.5 in /opt/conda/lib/python3.11/site-packages (from requests>=2.25.1->enrichr) (3.4)\n",
      "Requirement already satisfied: urllib3<3,>=1.21.1 in /opt/conda/lib/python3.11/site-packages (from requests>=2.25.1->enrichr) (2.0.6)\n",
      "Requirement already satisfied: certifi>=2017.4.17 in /opt/conda/lib/python3.11/site-packages (from requests>=2.25.1->enrichr) (2023.7.22)\n"
     ]
    }
   ],
   "source": [
    "!pip install gseapy\n",
    "!pip install scanpy\n",
    "!pip install enrichr"
   ]
  },
  {
   "cell_type": "code",
   "execution_count": 2,
   "id": "faecd861-65bd-4f47-bd08-e6ae84b9cd3b",
   "metadata": {},
   "outputs": [],
   "source": [
    "import scanpy as sc\n",
    "import gseapy as gp\n",
    "import pandas as pd\n",
    "import numpy as np\n",
    "import enrichr"
   ]
  },
  {
   "cell_type": "code",
   "execution_count": 3,
   "id": "51cfcd1e-315b-4b99-afee-4cccf76c0a21",
   "metadata": {},
   "outputs": [],
   "source": [
    "def read_genes_from_csv(filename, max_num):\n",
    "\n",
    "    genes = set()\n",
    "    open_file = open(filename)\n",
    "    for i, line in enumerate(open_file):\n",
    "        if i == 0:\n",
    "            continue\n",
    "        if i == max_num:\n",
    "            break\n",
    "        split = line.split(\",\")\n",
    "        genes.add(split[1])\n",
    "    open_file.close()\n",
    "    return genes"
   ]
  },
  {
   "cell_type": "code",
   "execution_count": 5,
   "id": "6f38716d-9ac2-43e1-ba29-294c14418bdf",
   "metadata": {},
   "outputs": [],
   "source": [
    "# First read those genes diff expressed in young/old\n",
    "older_genes_de = read_genes_from_csv(\"../project-files/DE_age_older_j.csv\", 100)\n",
    "younger_genes_de = read_genes_from_csv(\"../project-files/DE_age_younger_j.csv\", 100)"
   ]
  },
  {
   "cell_type": "code",
   "execution_count": 11,
   "id": "096ac812-577f-44a2-80e1-602486184da7",
   "metadata": {},
   "outputs": [],
   "source": [
    "# First read those genes diff expressed in young/old\n",
    "ductal_genes_de = read_genes_from_csv(\"../project-files/DE_type_ductal_j.csv\", 100)\n",
    "lobular_genes_de = read_genes_from_csv(\"../project-files/DE_type_lobular_j.csv\", 100)"
   ]
  },
  {
   "cell_type": "code",
   "execution_count": 6,
   "id": "2c07dbc3-d091-4d9e-b6b8-4441bb132a20",
   "metadata": {},
   "outputs": [],
   "source": [
    "# Need to convert gene names.\n",
    "from gseapy import Biomart\n",
    "bm = Biomart()\n",
    "h2m = bm.query(dataset='hsapiens_gene_ensembl',\n",
    "               attributes=['ensembl_gene_id','external_gene_name'])"
   ]
  },
  {
   "cell_type": "code",
   "execution_count": 7,
   "id": "6fba2722-4b4f-49a4-9132-539d7ea41512",
   "metadata": {},
   "outputs": [],
   "source": [
    "# get a dict symbol mappings\n",
    "h2m_dict = {}\n",
    "for i, row in h2m.loc[:,[\"external_gene_name\", \"ensembl_gene_id\"]].iterrows():\n",
    "    if row.isna().any(): continue\n",
    "    h2m_dict[row['external_gene_name']] = row[\"ensembl_gene_id\"]"
   ]
  },
  {
   "cell_type": "code",
   "execution_count": 8,
   "id": "5e7d967b-d776-472b-8766-22e46fa9090a",
   "metadata": {},
   "outputs": [],
   "source": [
    "younger_ensembl = set()\n",
    "older_ensembl = set()\n",
    "for elem in younger_genes_de:\n",
    "    if elem not in h2m_dict:\n",
    "        continue\n",
    "    younger_ensembl.add(h2m_dict[elem])\n",
    "\n",
    "for elem in older_genes_de:\n",
    "    if elem not in h2m_dict:\n",
    "        continue\n",
    "    older_ensembl.add(h2m_dict[elem])"
   ]
  },
  {
   "cell_type": "code",
   "execution_count": 12,
   "id": "4c6b1026-a77f-4c40-ace7-4f206f120f2f",
   "metadata": {},
   "outputs": [],
   "source": [
    "ductal_ensembl = set()\n",
    "lobular_ensembl = set()\n",
    "for elem in ductal_genes_de:\n",
    "    if elem not in h2m_dict:\n",
    "        continue\n",
    "    ductal_ensembl.add(h2m_dict[elem])\n",
    "\n",
    "for elem in lobular_genes_de:\n",
    "    if elem not in h2m_dict:\n",
    "        continue\n",
    "    lobular_ensembl.add(h2m_dict[elem])"
   ]
  },
  {
   "cell_type": "code",
   "execution_count": 9,
   "id": "340d21a7-5d55-400e-b72f-55b32253b707",
   "metadata": {},
   "outputs": [],
   "source": [
    "def write_to_file(liste, filename):\n",
    "    writer = open(filename, \"w\")\n",
    "    for elem in liste:\n",
    "        writer.write(elem + \"\\n\")\n",
    "    writer.close()"
   ]
  },
  {
   "cell_type": "code",
   "execution_count": 10,
   "id": "92f26d2d-fd03-4586-bf16-9e89134bb75a",
   "metadata": {},
   "outputs": [],
   "source": [
    "write_to_file(older_ensembl, \"older_ensembl.out\")\n",
    "write_to_file(younger_ensembl, \"younger_ensembl.out\")"
   ]
  },
  {
   "cell_type": "code",
   "execution_count": 13,
   "id": "39781c66-9b57-46ca-aff6-06f57744550a",
   "metadata": {},
   "outputs": [],
   "source": [
    "write_to_file(ductal_ensembl, \"ductal_ensembl.out\")\n",
    "write_to_file(lobular_ensembl, \"lobular_ensembl.out\")"
   ]
  }
 ],
 "metadata": {
  "kernelspec": {
   "display_name": "Python 3 (ipykernel)",
   "language": "python",
   "name": "python3"
  },
  "language_info": {
   "codemirror_mode": {
    "name": "ipython",
    "version": 3
   },
   "file_extension": ".py",
   "mimetype": "text/x-python",
   "name": "python",
   "nbconvert_exporter": "python",
   "pygments_lexer": "ipython3",
   "version": "3.11.6"
  }
 },
 "nbformat": 4,
 "nbformat_minor": 5
}
